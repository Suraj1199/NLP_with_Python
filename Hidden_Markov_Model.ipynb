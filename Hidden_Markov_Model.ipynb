{
 "cells": [
  {
   "cell_type": "code",
   "execution_count": 3,
   "id": "e3efcc09",
   "metadata": {},
   "outputs": [
    {
     "name": "stdout",
     "output_type": "stream",
     "text": [
      "Enter Hidden States (separated by spaces) : sunny rainy\n",
      "Enter Observations (separated by spaces) : paint clean shop bike\n",
      "\n",
      "Enter Intial Probabilites:\n",
      "  P(sunny) = 0.6\n",
      "  P(rainy) = 0.4\n",
      "\n",
      "Enter Transition Probabilites:\n",
      "  P(sunny|sunny) = 0.8\n",
      "  P(rainy|sunny) = 0.2\n",
      "  P(sunny|rainy) = 0.4\n",
      "  P(rainy|rainy) = 0.6\n",
      "\n",
      "Enter Emission Probabilites:\n",
      "  P(paint|sunny) = 0.4\n",
      "  P(clean|sunny) = 0.1\n",
      "  P(shop|sunny) = 0.2\n",
      "  P(bike|sunny) = 0.3\n",
      "  P(paint|rainy) = 0.3\n",
      "  P(clean|rainy) = 0.45\n",
      "  P(shop|rainy) = 0.2\n",
      "  P(bike|rainy) = 0.05\n"
     ]
    }
   ],
   "source": [
    "from collections import defaultdict\n",
    "\n",
    "print('''\n",
    "FORWARD ALGORITHM - Compute Likelihood\n",
    "''')\n",
    "\n",
    "hidden_states = input('Enter Hidden States (separated by spaces) : ').split()\n",
    "observations = input('Enter Observations (separated by spaces) : ').split()\n",
    "\n",
    "print('\\nEnter Intial Probabilites:')\n",
    "init_probs = {}\n",
    "for state in hidden_states:\n",
    "    init_probs[state] = float(input(f'  P({state}) = '))\n",
    "\n",
    "print('\\nEnter Transition Probabilites:')\n",
    "trans_probs = defaultdict(dict)\n",
    "for state1 in hidden_states:\n",
    "    for state2 in hidden_states:\n",
    "        trans_probs[state2][state1] = float(input(f'  P({state2}|{state1}) = '))\n",
    "\n",
    "print('\\nEnter Emission Probabilites:')\n",
    "emission_probs = defaultdict(dict)\n",
    "for state1 in hidden_states:\n",
    "    for state2 in observations:\n",
    "        emission_probs[state2][state1] = float(input(f'  P({state2}|{state1}) = '))"
   ]
  },
  {
   "cell_type": "code",
   "execution_count": 7,
   "id": "503fc25d",
   "metadata": {},
   "outputs": [
    {
     "data": {
      "text/plain": [
       "defaultdict(dict,\n",
       "            {'paint': {'sunny': 0.4, 'rainy': 0.3},\n",
       "             'clean': {'sunny': 0.1, 'rainy': 0.45},\n",
       "             'shop': {'sunny': 0.2, 'rainy': 0.2},\n",
       "             'bike': {'sunny': 0.3, 'rainy': 0.05}})"
      ]
     },
     "execution_count": 7,
     "metadata": {},
     "output_type": "execute_result"
    }
   ],
   "source": [
    "emision_probs"
   ]
  },
  {
   "cell_type": "code",
   "execution_count": 28,
   "id": "4020a98a",
   "metadata": {
    "scrolled": false
   },
   "outputs": [
    {
     "name": "stdout",
     "output_type": "stream",
     "text": [
      "Enter Observation Sequence (separated by spaces): paint clean shop bike\n",
      "\n",
      "  Iteration 0 = [0.24, 0.12]\n",
      "  Iteration 1 = [0.024, 0.054]\n",
      "  Iteration 2 = [0.00816, 0.0074399999999999996]\n",
      "  Iteration 3 = [0.0028512000000000003, 0.0003048]\n",
      "Sequence   = ['paint', 'clean', 'shop', 'bike']\n",
      "Likelihood = 0.0031560000000000004\n"
     ]
    }
   ],
   "source": [
    "sequence = input('Enter Observation Sequence (separated by spaces): ').split()\n",
    "\n",
    "# Initialisation\n",
    "var = []\n",
    "for state in hidden_states:\n",
    "    var.append(init_probs[state] * emission_probs[sequence[0]][state])\n",
    "print('\\n  Iteration 0 =', var)\n",
    "\n",
    "# Calculation using Dynamic Programming\n",
    "for k in range(1, len(sequence)):\n",
    "    next_var = []\n",
    "    for next_state in hidden_states:\n",
    "        probs = []\n",
    "        for i in range(len(hidden_states)):\n",
    "            probs.append(var[i] * trans_probs[next_state][hidden_states[i]] * emission_probs[sequence[k]][next_state])\n",
    "        next_var.append(sum(probs))\n",
    "    var = next_var\n",
    "    print(f'  Iteration {k} = {var}')\n",
    "\n",
    "# Termination\n",
    "print(f'\\nSequence Likelihood = {sum(var)}')"
   ]
  },
  {
   "cell_type": "code",
   "execution_count": null,
   "id": "6cd2a454",
   "metadata": {},
   "outputs": [
    {
     "name": "stdout",
     "output_type": "stream",
     "text": [
      "\n",
      "VITERBI ALGORITHM - Decoding Sequence\n",
      "\n"
     ]
    }
   ],
   "source": [
    "print('''\n",
    "VITERBI ALGORITHM - Decoding Sequence\n",
    "''')\n",
    "\n",
    "sequence = input('Enter Observation Sequence (separated by spaces): ').split()\n",
    "\n",
    "# Initialisation\n",
    "var = []\n",
    "for state in hidden_states:\n",
    "    var.append(init_probs[state] * emision_probs[sequence[0]][state])\n",
    "print('\\n  Iteration 0 =', var)\n",
    "\n",
    "# Calculation using Dynamic Programming\n",
    "state_array = defaultdict(list)\n",
    "for k in range(1, len(sequence)):\n",
    "    next_var = []\n",
    "    for next_state in hidden_states:\n",
    "        probs = []\n",
    "        for i in range(len(hidden_states)):\n",
    "            probs.append(var[i] * trans_probs[next_state][hidden_states[i]] * emision_probs[sequence[k]][next_state])\n",
    "        idx = max(range(len(probs)), key=lambda i: probs[i])\n",
    "        state_array[next_state].append(hidden_states[idx])\n",
    "        next_var.append(probs[idx])\n",
    "    var = next_var\n",
    "    print(f'  Iteration {k} = {var}')\n",
    "\n",
    "# Termination\n",
    "idx = max(range(len(probs)), key=lambda i: var[i])\n",
    "last_state = hidden_states[idx]\n",
    "for state in hidden_states:\n",
    "    state_array[state].append(last_state)\n",
    "print('\\nState Arrays =', dict(state_array))\n",
    "\n",
    "# Backtracking\n",
    "best_hidden_state_sequence = []\n",
    "for i in range(len(sequence) - 1, -1, -1):\n",
    "    best_hidden_state_sequence.append(state_array[last_state][i])\n",
    "    last_state = state_array[last_state][i]\n",
    "best_hidden_state_sequence.reverse()\n",
    "print('\\nBest Hidden State Sequence = ', best_hidden_state_sequence)"
   ]
  },
  {
   "cell_type": "code",
   "execution_count": null,
   "id": "220aac4a",
   "metadata": {},
   "outputs": [],
   "source": []
  }
 ],
 "metadata": {
  "kernelspec": {
   "display_name": "Python 3 (ipykernel)",
   "language": "python",
   "name": "python3"
  },
  "language_info": {
   "codemirror_mode": {
    "name": "ipython",
    "version": 3
   },
   "file_extension": ".py",
   "mimetype": "text/x-python",
   "name": "python",
   "nbconvert_exporter": "python",
   "pygments_lexer": "ipython3",
   "version": "3.9.9"
  }
 },
 "nbformat": 4,
 "nbformat_minor": 5
}
