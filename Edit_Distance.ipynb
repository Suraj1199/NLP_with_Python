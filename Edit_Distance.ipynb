{
 "cells": [
  {
   "cell_type": "code",
   "execution_count": 3,
   "id": "f2e2033b",
   "metadata": {},
   "outputs": [
    {
     "name": "stdout",
     "output_type": "stream",
     "text": [
      "Enter two string separated by a space : intention execution\n",
      "The edit dsitance between `intention` and `execution` is 5\n"
     ]
    }
   ],
   "source": [
    "def edit_distance(word1, word2):\n",
    "    '''\n",
    "    word1, word2 - input word strings to calculate distance\n",
    "    returns edit distance between `word1` and `word2`\n",
    "    '''\n",
    "    m, n = len(word1), len(word2)\n",
    "    if not (m and n):\n",
    "        return max(m, n)\n",
    "    dp = [[0] * (n + 1) for _ in range(m + 1)]\n",
    "    for i in range(m + 1):\n",
    "        dp[i][0] = i\n",
    "    for j in range(n + 1):\n",
    "        dp[0][j] = j\n",
    "    for i in range(1, m + 1):\n",
    "        for j in range(1, n + 1):\n",
    "            if word1[i - 1] == word2[j - 1]:\n",
    "                dp[i][j] = dp[i - 1][j - 1]\n",
    "            else:\n",
    "                dp[i][j] = 1 + min(dp[i - 1][j - 1], dp[i][j - 1], dp[i - 1][j])\n",
    "    return dp[-1][-1]\n",
    "\n",
    "word1, word2 = input('Enter two string separated by a space : ').split()\n",
    "edist = edit_distance(word1, word2)\n",
    "print(f'The edit dsitance between `{word1}` and `{word2}` is {edist}')"
   ]
  },
  {
   "cell_type": "code",
   "execution_count": null,
   "id": "d1f8373e",
   "metadata": {},
   "outputs": [],
   "source": []
  }
 ],
 "metadata": {
  "kernelspec": {
   "display_name": "Python 3 (ipykernel)",
   "language": "python",
   "name": "python3"
  },
  "language_info": {
   "codemirror_mode": {
    "name": "ipython",
    "version": 3
   },
   "file_extension": ".py",
   "mimetype": "text/x-python",
   "name": "python",
   "nbconvert_exporter": "python",
   "pygments_lexer": "ipython3",
   "version": "3.9.9"
  }
 },
 "nbformat": 4,
 "nbformat_minor": 5
}
